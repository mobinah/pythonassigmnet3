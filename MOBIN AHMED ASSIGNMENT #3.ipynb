{
 "cells": [
  {
   "cell_type": "code",
   "execution_count": 1,
   "metadata": {},
   "outputs": [
    {
     "name": "stdout",
     "output_type": "stream",
     "text": [
      "Twinkle, twinkle, little star,\n",
      "\tHow I wonder what you are!\n",
      "\t\tUp above the world so high,\n",
      "\t\tLike a diamond in the sky.\n",
      "Twinkle, twinkle, little star,\n",
      "\t How I wonder what you are.\n"
     ]
    }
   ],
   "source": [
    "# 1:Write a Python program to print the following string in a specific format (see the output).\n",
    "\n",
    "\"\"\"Twinkle, twinkle, little star,\n",
    "            How I wonder what you are!\n",
    "                    Up above the world so high,\n",
    "                    Like a diamond in the sky.\n",
    "   Twinkle, twinkle, little star,\n",
    "            How I wonder what you are\"\"\"\n",
    "\n",
    "print('Twinkle, twinkle, little star,\\n\\tHow I wonder what you are!\\n\\t\\tUp above the world\\\n",
    " so high,\\n\\t\\tLike a diamond in the sky.\\nTwinkle, twinkle, little star,\\n\\t How I wonder what you are.')\n",
    " \n",
    " \n"
   ]
  },
  {
   "cell_type": "code",
   "execution_count": 2,
   "metadata": {},
   "outputs": [
    {
     "name": "stdout",
     "output_type": "stream",
     "text": [
      "Current version of Python is  3.7.6 (default, Jan  8 2020, 20:23:39) [MSC v.1916 64 bit (AMD64)]\n"
     ]
    }
   ],
   "source": [
    "# 2: Write a Python program to get the Python version you are using.\n",
    "\n",
    "import sys\n",
    "\n",
    "print(\"Current version of Python is \", sys.version)\n"
   ]
  },
  {
   "cell_type": "code",
   "execution_count": 3,
   "metadata": {},
   "outputs": [
    {
     "name": "stdout",
     "output_type": "stream",
     "text": [
      "Current date and time : \n",
      "2021-10-24 17:01:21.150910\n"
     ]
    }
   ],
   "source": [
    "# 3: Write a Python program to display the current date and time.\n",
    "import datetime\n",
    "now = datetime.datetime.now()\n",
    "print (\"Current date and time : \")\n",
    "print (str(now));\n"
   ]
  },
  {
   "cell_type": "code",
   "execution_count": 4,
   "metadata": {},
   "outputs": [
    {
     "name": "stdout",
     "output_type": "stream",
     "text": [
      "Input the radius of the circle : 6\n",
      "The area of the circle with radius 6.0 is: 113.09733552923255\n"
     ]
    }
   ],
   "source": [
    "# 4: Write a Python program which accepts the radius of a circle from the user and compute the area.\n",
    "\n",
    "from math import pi\n",
    "radius = float(input (\"Input the radius of the circle : \"))\n",
    "print (\"The area of the circle with radius \" + str(radius) + \" is: \" + str(pi * radius**2))\n"
   ]
  },
  {
   "cell_type": "code",
   "execution_count": 5,
   "metadata": {},
   "outputs": [
    {
     "name": "stdout",
     "output_type": "stream",
     "text": [
      "Input your First Name : k\n",
      "Input your Last Name : k\n",
      "Welcome  k k\n"
     ]
    }
   ],
   "source": [
    "# 5: Write a Python program which accepts the user's first and last name and print them in reverse order with a space between them.\n",
    "\n",
    "firstname = input(\"Input your First Name : \")\n",
    "lastname = input(\"Input your Last Name : \")\n",
    "print (\"Welcome  \" + lastname + \" \" + firstname);\n"
   ]
  },
  {
   "cell_type": "code",
   "execution_count": 6,
   "metadata": {},
   "outputs": [
    {
     "name": "stdout",
     "output_type": "stream",
     "text": [
      " Enter Your first Number 0\n",
      " Enter Your Second Number 9\n",
      "The Sum of First number & Second number is: 9\n"
     ]
    }
   ],
   "source": [
    "# 6: Write a python program which takes two inputs from user and print them addition.\n",
    "value1 = int(input (\" Enter Your first Number \" ));\n",
    "value2 = int(input (\" Enter Your Second Number \" ));\n",
    "value = value1 + value2;\n",
    "print(\"The Sum of First number & Second number is: \" + str(value));"
   ]
  },
  {
   "cell_type": "code",
   "execution_count": 1,
   "metadata": {},
   "outputs": [
    {
     "name": "stdout",
     "output_type": "stream",
     "text": [
      "Enter Marks Obtained in 5 Subjects: \n",
      "Enter English marks77\n",
      "Enter Maths marks77\n",
      "Enter pysics marks80\n",
      "Enter Chemistry marks67\n",
      "Enter Computer marks56\n",
      "Total marks obtained is:357\n",
      "Total percentage is :71.39999999999999\n",
      "Your Grade is A\n"
     ]
    }
   ],
   "source": [
    "# 7: Write a program which takes 5 inputs from user for different subject’s marks, total it and generate mark sheet using grades \n",
    "print(\"Enter Marks Obtained in 5 Subjects: \")\n",
    "markOne = int(input(\"Enter English marks\"))\n",
    "markTwo = int(input(\"Enter Maths marks\"))\n",
    "markThree = int(input(\"Enter pysics marks\"))\n",
    "markFour = int(input(\"Enter Chemistry marks\"))\n",
    "markFive = int(input(\"Enter Computer marks\"))\n",
    "\n",
    "tot = markOne+markTwo+markThree+markFour+markFive\n",
    "avg = tot/5\n",
    "percentage = (tot/500)*100\n",
    "print(\"Total marks obtained is:\" + str(tot));\n",
    "print (\"Total percentage is :\" + str(percentage) );\n",
    "\n",
    "if avg>=80 and avg<=90:\n",
    "    print(\"Your Grade is A1\")\n",
    "elif avg>=70 and avg<80:\n",
    "    print(\"Your Grade is A\")\n",
    "elif avg>=60 and avg<70:\n",
    "    print(\"Your Grade is B\")\n",
    "elif avg>=50 and avg<60:\n",
    "    print(\"Your Grade is C\")\n",
    "elif avg>=40 and avg<50:\n",
    "    print(\"Your Grade is D\")\n",
    "elif avg>=40 and avg<45:\n",
    "    print(\"Your Grade is E\")\n",
    "\n",
    "else:\n",
    "    print(\"Fail!\")"
   ]
  },
  {
   "cell_type": "code",
   "execution_count": 2,
   "metadata": {},
   "outputs": [
    {
     "name": "stdout",
     "output_type": "stream",
     "text": [
      "Enter a Number: \n",
      "6\n",
      "\n",
      "6 is an Even Number\n"
     ]
    }
   ],
   "source": [
    "# 8: Write a program which take input from user and identify that the given number is even or odd?\n",
    "print(\"Enter a Number: \")\n",
    "num = int(input())\n",
    "\n",
    "if num%2==0:\n",
    "    print(\"\\n\" +str(num)+ \" is an Even Number\")\n",
    "else:\n",
    "    print(\"\\n\" +str(num)+ \" is an Odd Number\")\n",
    "    \n",
    "    "
   ]
  },
  {
   "cell_type": "code",
   "execution_count": 3,
   "metadata": {},
   "outputs": [
    {
     "name": "stdout",
     "output_type": "stream",
     "text": [
      "Sum of all elements in given list:  51\n"
     ]
    }
   ],
   "source": [
    "# 10: Write a Python program to sum all the numeric items in a list?\n",
    "\n",
    "total=0\n",
    "list1 = [10, 5, 4, 12, 20]\n",
    " \n",
    "\n",
    "for element in range(0, len(list1)):\n",
    "    total = total + list1[element]\n",
    " \n",
    "print(\"Sum of all elements in given list: \", total);"
   ]
  },
  {
   "cell_type": "code",
   "execution_count": 4,
   "metadata": {},
   "outputs": [
    {
     "name": "stdout",
     "output_type": "stream",
     "text": [
      "Largest number of the list is: 80\n"
     ]
    }
   ],
   "source": [
    "# 11:Write a Python program to get the largest number from a numeric list.\n",
    "\n",
    "\n",
    "list = [19, 10, 45, 26, 6, 80, 67]\n",
    "\n",
    "print(\"Largest number of the list is:\", max(list))"
   ]
  },
  {
   "cell_type": "code",
   "execution_count": 5,
   "metadata": {},
   "outputs": [
    {
     "name": "stdout",
     "output_type": "stream",
     "text": [
      "1\n",
      "1\n",
      "2\n",
      "3\n"
     ]
    }
   ],
   "source": [
    "# 12: Take a list, say for example this one:\n",
    "#a = [1, 1, 2, 3, 5, 8, 13, 21, 34, 55, 89]\n",
    "#Write a program that prints out all the elements of the list that are less than 5.\n",
    "\n",
    "list= [1, 1, 2, 3, 5, 8, 13, 21, 34, 55, 89]\n",
    "for element in list:\n",
    "    if(int(element) <5):\n",
    "        print(str(element))"
   ]
  },
  {
   "cell_type": "code",
   "execution_count": null,
   "metadata": {},
   "outputs": [],
   "source": []
  },
  {
   "cell_type": "code",
   "execution_count": null,
   "metadata": {},
   "outputs": [],
   "source": []
  }
 ],
 "metadata": {
  "kernelspec": {
   "display_name": "Python 3",
   "language": "python",
   "name": "python3"
  },
  "language_info": {
   "codemirror_mode": {
    "name": "ipython",
    "version": 3
   },
   "file_extension": ".py",
   "mimetype": "text/x-python",
   "name": "python",
   "nbconvert_exporter": "python",
   "pygments_lexer": "ipython3",
   "version": "3.7.6"
  }
 },
 "nbformat": 4,
 "nbformat_minor": 4
}
